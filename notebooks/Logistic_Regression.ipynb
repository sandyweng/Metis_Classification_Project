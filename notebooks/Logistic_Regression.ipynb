{
 "cells": [
  {
   "cell_type": "code",
   "execution_count": 2,
   "id": "supposed-causing",
   "metadata": {},
   "outputs": [],
   "source": [
    "# munging imports\n",
    "import pandas as pd\n",
    "import numpy as np\n",
    "\n",
    "# visualization imports\n",
    "import matplotlib.pyplot as plt\n",
    "import seaborn as sns\n",
    "plt.style.use('fivethirtyeight')\n",
    "\n",
    "%matplotlib inline\n",
    "\n",
    "# modeling imports\n",
    "from sklearn.linear_model import LogisticRegression, LogisticRegressionCV\n",
    "from sklearn.model_selection import train_test_split\n",
    "from sklearn.metrics import confusion_matrix, classification_report\n",
    "from sklearn.preprocessing import StandardScaler\n",
    "import pickle\n",
    "from sklearn.model_selection import GridSearchCV\n",
    "from sklearn.metrics import precision_score, recall_score, make_scorer, fbeta_score, f1_score"
   ]
  },
  {
   "cell_type": "code",
   "execution_count": 3,
   "id": "blocked-hungarian",
   "metadata": {},
   "outputs": [],
   "source": [
    "df = pd.read_csv('kickstarter_features_scaled.csv')"
   ]
  },
  {
   "cell_type": "code",
   "execution_count": 4,
   "id": "literary-embassy",
   "metadata": {
    "scrolled": true
   },
   "outputs": [
    {
     "data": {
      "text/html": [
       "<div>\n",
       "<style scoped>\n",
       "    .dataframe tbody tr th:only-of-type {\n",
       "        vertical-align: middle;\n",
       "    }\n",
       "\n",
       "    .dataframe tbody tr th {\n",
       "        vertical-align: top;\n",
       "    }\n",
       "\n",
       "    .dataframe thead th {\n",
       "        text-align: right;\n",
       "    }\n",
       "</style>\n",
       "<table border=\"1\" class=\"dataframe\">\n",
       "  <thead>\n",
       "    <tr style=\"text-align: right;\">\n",
       "      <th></th>\n",
       "      <th>backers_count</th>\n",
       "      <th>pledged</th>\n",
       "      <th>country</th>\n",
       "      <th>created_at</th>\n",
       "      <th>deadline</th>\n",
       "      <th>goal</th>\n",
       "      <th>id</th>\n",
       "      <th>launched_date</th>\n",
       "      <th>name</th>\n",
       "      <th>spotlight</th>\n",
       "      <th>staff_pick</th>\n",
       "      <th>state</th>\n",
       "      <th>category</th>\n",
       "      <th>city</th>\n",
       "      <th>days_active</th>\n",
       "      <th>launch_month</th>\n",
       "      <th>launch_day</th>\n",
       "      <th>launch_day_name</th>\n",
       "      <th>launch_month_name</th>\n",
       "      <th>target</th>\n",
       "    </tr>\n",
       "  </thead>\n",
       "  <tbody>\n",
       "    <tr>\n",
       "      <th>0</th>\n",
       "      <td>-0.153653</td>\n",
       "      <td>-0.126677</td>\n",
       "      <td>the United States</td>\n",
       "      <td>2017-06-21 17:18:54</td>\n",
       "      <td>2017-07-22 23:38:29</td>\n",
       "      <td>-0.041769</td>\n",
       "      <td>1166044523</td>\n",
       "      <td>2017-06-21 17:18:54</td>\n",
       "      <td>CrimpCoffee: Good Coffee Good Times</td>\n",
       "      <td>-1.153466</td>\n",
       "      <td>-0.389846</td>\n",
       "      <td>failed</td>\n",
       "      <td>Food</td>\n",
       "      <td>Portland</td>\n",
       "      <td>-0.361168</td>\n",
       "      <td>-0.090239</td>\n",
       "      <td>-0.353999</td>\n",
       "      <td>Wednesday</td>\n",
       "      <td>June</td>\n",
       "      <td>0</td>\n",
       "    </tr>\n",
       "    <tr>\n",
       "      <th>1</th>\n",
       "      <td>0.326780</td>\n",
       "      <td>0.043884</td>\n",
       "      <td>Denmark</td>\n",
       "      <td>2020-10-27 13:29:35</td>\n",
       "      <td>2020-12-11 19:58:49</td>\n",
       "      <td>-0.036475</td>\n",
       "      <td>986370978</td>\n",
       "      <td>2020-10-27 13:29:35</td>\n",
       "      <td>Spawns of the Great Rot - Printable stl 3d min...</td>\n",
       "      <td>0.866952</td>\n",
       "      <td>-0.389846</td>\n",
       "      <td>successful</td>\n",
       "      <td>Games</td>\n",
       "      <td>Svendborg</td>\n",
       "      <td>-0.260270</td>\n",
       "      <td>1.086907</td>\n",
       "      <td>-0.870301</td>\n",
       "      <td>Tuesday</td>\n",
       "      <td>October</td>\n",
       "      <td>1</td>\n",
       "    </tr>\n",
       "    <tr>\n",
       "      <th>2</th>\n",
       "      <td>-0.152595</td>\n",
       "      <td>-0.126035</td>\n",
       "      <td>the United Kingdom</td>\n",
       "      <td>2017-04-15 22:46:58</td>\n",
       "      <td>2017-05-17 12:59:30</td>\n",
       "      <td>-0.042177</td>\n",
       "      <td>2059825834</td>\n",
       "      <td>2017-04-15 22:46:58</td>\n",
       "      <td>Dreamcatcher Games</td>\n",
       "      <td>-1.153466</td>\n",
       "      <td>-0.389846</td>\n",
       "      <td>failed</td>\n",
       "      <td>Games</td>\n",
       "      <td>Enfield</td>\n",
       "      <td>-0.361168</td>\n",
       "      <td>-0.678812</td>\n",
       "      <td>1.194908</td>\n",
       "      <td>Saturday</td>\n",
       "      <td>April</td>\n",
       "      <td>0</td>\n",
       "    </tr>\n",
       "    <tr>\n",
       "      <th>3</th>\n",
       "      <td>-0.056297</td>\n",
       "      <td>-0.064278</td>\n",
       "      <td>the United States</td>\n",
       "      <td>2020-11-04 17:18:51</td>\n",
       "      <td>2021-01-04 05:30:00</td>\n",
       "      <td>-0.038511</td>\n",
       "      <td>1462846972</td>\n",
       "      <td>2020-11-04 17:18:51</td>\n",
       "      <td>Felbar's Shoppe of Curiosities and Occult for ...</td>\n",
       "      <td>0.866952</td>\n",
       "      <td>-0.389846</td>\n",
       "      <td>successful</td>\n",
       "      <td>Games</td>\n",
       "      <td>Chicago</td>\n",
       "      <td>-0.152166</td>\n",
       "      <td>1.381193</td>\n",
       "      <td>-0.353999</td>\n",
       "      <td>Wednesday</td>\n",
       "      <td>November</td>\n",
       "      <td>1</td>\n",
       "    </tr>\n",
       "    <tr>\n",
       "      <th>4</th>\n",
       "      <td>-0.018201</td>\n",
       "      <td>-0.021914</td>\n",
       "      <td>the United States</td>\n",
       "      <td>2020-07-20 15:40:27</td>\n",
       "      <td>2020-10-30 16:00:00</td>\n",
       "      <td>-0.034439</td>\n",
       "      <td>1635933643</td>\n",
       "      <td>2020-07-20 15:40:27</td>\n",
       "      <td>Wander: Flavorful and Functional Pantry Staples</td>\n",
       "      <td>0.866952</td>\n",
       "      <td>-0.389846</td>\n",
       "      <td>successful</td>\n",
       "      <td>Food</td>\n",
       "      <td>Brooklyn</td>\n",
       "      <td>0.150526</td>\n",
       "      <td>0.204047</td>\n",
       "      <td>-1.386603</td>\n",
       "      <td>Monday</td>\n",
       "      <td>July</td>\n",
       "      <td>1</td>\n",
       "    </tr>\n",
       "  </tbody>\n",
       "</table>\n",
       "</div>"
      ],
      "text/plain": [
       "   backers_count   pledged             country           created_at  \\\n",
       "0      -0.153653 -0.126677   the United States  2017-06-21 17:18:54   \n",
       "1       0.326780  0.043884             Denmark  2020-10-27 13:29:35   \n",
       "2      -0.152595 -0.126035  the United Kingdom  2017-04-15 22:46:58   \n",
       "3      -0.056297 -0.064278   the United States  2020-11-04 17:18:51   \n",
       "4      -0.018201 -0.021914   the United States  2020-07-20 15:40:27   \n",
       "\n",
       "              deadline      goal          id        launched_date  \\\n",
       "0  2017-07-22 23:38:29 -0.041769  1166044523  2017-06-21 17:18:54   \n",
       "1  2020-12-11 19:58:49 -0.036475   986370978  2020-10-27 13:29:35   \n",
       "2  2017-05-17 12:59:30 -0.042177  2059825834  2017-04-15 22:46:58   \n",
       "3  2021-01-04 05:30:00 -0.038511  1462846972  2020-11-04 17:18:51   \n",
       "4  2020-10-30 16:00:00 -0.034439  1635933643  2020-07-20 15:40:27   \n",
       "\n",
       "                                                name  spotlight  staff_pick  \\\n",
       "0                CrimpCoffee: Good Coffee Good Times  -1.153466   -0.389846   \n",
       "1  Spawns of the Great Rot - Printable stl 3d min...   0.866952   -0.389846   \n",
       "2                                 Dreamcatcher Games  -1.153466   -0.389846   \n",
       "3  Felbar's Shoppe of Curiosities and Occult for ...   0.866952   -0.389846   \n",
       "4    Wander: Flavorful and Functional Pantry Staples   0.866952   -0.389846   \n",
       "\n",
       "        state category       city  days_active  launch_month  launch_day  \\\n",
       "0      failed     Food   Portland    -0.361168     -0.090239   -0.353999   \n",
       "1  successful    Games  Svendborg    -0.260270      1.086907   -0.870301   \n",
       "2      failed    Games    Enfield    -0.361168     -0.678812    1.194908   \n",
       "3  successful    Games    Chicago    -0.152166      1.381193   -0.353999   \n",
       "4  successful     Food   Brooklyn     0.150526      0.204047   -1.386603   \n",
       "\n",
       "  launch_day_name launch_month_name  target  \n",
       "0       Wednesday              June       0  \n",
       "1         Tuesday           October       1  \n",
       "2        Saturday             April       0  \n",
       "3       Wednesday          November       1  \n",
       "4          Monday              July       1  "
      ]
     },
     "execution_count": 4,
     "metadata": {},
     "output_type": "execute_result"
    }
   ],
   "source": [
    "df.head()"
   ]
  },
  {
   "cell_type": "code",
   "execution_count": 5,
   "id": "known-upset",
   "metadata": {},
   "outputs": [],
   "source": [
    "def country(x):\n",
    "    if x == 'the United States':\n",
    "        return 'USA'\n",
    "    else:\n",
    "        return 'Other'"
   ]
  },
  {
   "cell_type": "code",
   "execution_count": 6,
   "id": "classical-twelve",
   "metadata": {},
   "outputs": [],
   "source": [
    "df['country_grouped'] = df.country.apply(country)"
   ]
  },
  {
   "cell_type": "code",
   "execution_count": 7,
   "id": "discrete-wilson",
   "metadata": {},
   "outputs": [],
   "source": [
    "X= df[['country_grouped', 'goal', 'staff_pick', 'category', 'days_active', 'launch_month', 'launch_day']]\n",
    "y = df['target']"
   ]
  },
  {
   "cell_type": "code",
   "execution_count": 8,
   "id": "yellow-adrian",
   "metadata": {},
   "outputs": [],
   "source": [
    "X = pd.get_dummies(X, columns=['country_grouped', 'category'], drop_first=True)"
   ]
  },
  {
   "cell_type": "code",
   "execution_count": 9,
   "id": "thrown-envelope",
   "metadata": {},
   "outputs": [
    {
     "data": {
      "text/html": [
       "<div>\n",
       "<style scoped>\n",
       "    .dataframe tbody tr th:only-of-type {\n",
       "        vertical-align: middle;\n",
       "    }\n",
       "\n",
       "    .dataframe tbody tr th {\n",
       "        vertical-align: top;\n",
       "    }\n",
       "\n",
       "    .dataframe thead th {\n",
       "        text-align: right;\n",
       "    }\n",
       "</style>\n",
       "<table border=\"1\" class=\"dataframe\">\n",
       "  <thead>\n",
       "    <tr style=\"text-align: right;\">\n",
       "      <th></th>\n",
       "      <th>goal</th>\n",
       "      <th>staff_pick</th>\n",
       "      <th>days_active</th>\n",
       "      <th>launch_month</th>\n",
       "      <th>launch_day</th>\n",
       "      <th>country_grouped_USA</th>\n",
       "      <th>category_Comics</th>\n",
       "      <th>category_Crafts</th>\n",
       "      <th>category_Dance</th>\n",
       "      <th>category_Design</th>\n",
       "      <th>category_Fashion</th>\n",
       "      <th>category_Film &amp; Video</th>\n",
       "      <th>category_Food</th>\n",
       "      <th>category_Games</th>\n",
       "      <th>category_Journalism</th>\n",
       "      <th>category_Music</th>\n",
       "      <th>category_Photography</th>\n",
       "      <th>category_Publishing</th>\n",
       "      <th>category_Technology</th>\n",
       "      <th>category_Theater</th>\n",
       "    </tr>\n",
       "  </thead>\n",
       "  <tbody>\n",
       "    <tr>\n",
       "      <th>0</th>\n",
       "      <td>-0.041769</td>\n",
       "      <td>-0.389846</td>\n",
       "      <td>-0.361168</td>\n",
       "      <td>-0.090239</td>\n",
       "      <td>-0.353999</td>\n",
       "      <td>1</td>\n",
       "      <td>0</td>\n",
       "      <td>0</td>\n",
       "      <td>0</td>\n",
       "      <td>0</td>\n",
       "      <td>0</td>\n",
       "      <td>0</td>\n",
       "      <td>1</td>\n",
       "      <td>0</td>\n",
       "      <td>0</td>\n",
       "      <td>0</td>\n",
       "      <td>0</td>\n",
       "      <td>0</td>\n",
       "      <td>0</td>\n",
       "      <td>0</td>\n",
       "    </tr>\n",
       "    <tr>\n",
       "      <th>1</th>\n",
       "      <td>-0.036475</td>\n",
       "      <td>-0.389846</td>\n",
       "      <td>-0.260270</td>\n",
       "      <td>1.086907</td>\n",
       "      <td>-0.870301</td>\n",
       "      <td>0</td>\n",
       "      <td>0</td>\n",
       "      <td>0</td>\n",
       "      <td>0</td>\n",
       "      <td>0</td>\n",
       "      <td>0</td>\n",
       "      <td>0</td>\n",
       "      <td>0</td>\n",
       "      <td>1</td>\n",
       "      <td>0</td>\n",
       "      <td>0</td>\n",
       "      <td>0</td>\n",
       "      <td>0</td>\n",
       "      <td>0</td>\n",
       "      <td>0</td>\n",
       "    </tr>\n",
       "    <tr>\n",
       "      <th>2</th>\n",
       "      <td>-0.042177</td>\n",
       "      <td>-0.389846</td>\n",
       "      <td>-0.361168</td>\n",
       "      <td>-0.678812</td>\n",
       "      <td>1.194908</td>\n",
       "      <td>0</td>\n",
       "      <td>0</td>\n",
       "      <td>0</td>\n",
       "      <td>0</td>\n",
       "      <td>0</td>\n",
       "      <td>0</td>\n",
       "      <td>0</td>\n",
       "      <td>0</td>\n",
       "      <td>1</td>\n",
       "      <td>0</td>\n",
       "      <td>0</td>\n",
       "      <td>0</td>\n",
       "      <td>0</td>\n",
       "      <td>0</td>\n",
       "      <td>0</td>\n",
       "    </tr>\n",
       "    <tr>\n",
       "      <th>3</th>\n",
       "      <td>-0.038511</td>\n",
       "      <td>-0.389846</td>\n",
       "      <td>-0.152166</td>\n",
       "      <td>1.381193</td>\n",
       "      <td>-0.353999</td>\n",
       "      <td>1</td>\n",
       "      <td>0</td>\n",
       "      <td>0</td>\n",
       "      <td>0</td>\n",
       "      <td>0</td>\n",
       "      <td>0</td>\n",
       "      <td>0</td>\n",
       "      <td>0</td>\n",
       "      <td>1</td>\n",
       "      <td>0</td>\n",
       "      <td>0</td>\n",
       "      <td>0</td>\n",
       "      <td>0</td>\n",
       "      <td>0</td>\n",
       "      <td>0</td>\n",
       "    </tr>\n",
       "    <tr>\n",
       "      <th>4</th>\n",
       "      <td>-0.034439</td>\n",
       "      <td>-0.389846</td>\n",
       "      <td>0.150526</td>\n",
       "      <td>0.204047</td>\n",
       "      <td>-1.386603</td>\n",
       "      <td>1</td>\n",
       "      <td>0</td>\n",
       "      <td>0</td>\n",
       "      <td>0</td>\n",
       "      <td>0</td>\n",
       "      <td>0</td>\n",
       "      <td>0</td>\n",
       "      <td>1</td>\n",
       "      <td>0</td>\n",
       "      <td>0</td>\n",
       "      <td>0</td>\n",
       "      <td>0</td>\n",
       "      <td>0</td>\n",
       "      <td>0</td>\n",
       "      <td>0</td>\n",
       "    </tr>\n",
       "  </tbody>\n",
       "</table>\n",
       "</div>"
      ],
      "text/plain": [
       "       goal  staff_pick  days_active  launch_month  launch_day  \\\n",
       "0 -0.041769   -0.389846    -0.361168     -0.090239   -0.353999   \n",
       "1 -0.036475   -0.389846    -0.260270      1.086907   -0.870301   \n",
       "2 -0.042177   -0.389846    -0.361168     -0.678812    1.194908   \n",
       "3 -0.038511   -0.389846    -0.152166      1.381193   -0.353999   \n",
       "4 -0.034439   -0.389846     0.150526      0.204047   -1.386603   \n",
       "\n",
       "   country_grouped_USA  category_Comics  category_Crafts  category_Dance  \\\n",
       "0                    1                0                0               0   \n",
       "1                    0                0                0               0   \n",
       "2                    0                0                0               0   \n",
       "3                    1                0                0               0   \n",
       "4                    1                0                0               0   \n",
       "\n",
       "   category_Design  category_Fashion  category_Film & Video  category_Food  \\\n",
       "0                0                 0                      0              1   \n",
       "1                0                 0                      0              0   \n",
       "2                0                 0                      0              0   \n",
       "3                0                 0                      0              0   \n",
       "4                0                 0                      0              1   \n",
       "\n",
       "   category_Games  category_Journalism  category_Music  category_Photography  \\\n",
       "0               0                    0               0                     0   \n",
       "1               1                    0               0                     0   \n",
       "2               1                    0               0                     0   \n",
       "3               1                    0               0                     0   \n",
       "4               0                    0               0                     0   \n",
       "\n",
       "   category_Publishing  category_Technology  category_Theater  \n",
       "0                    0                    0                 0  \n",
       "1                    0                    0                 0  \n",
       "2                    0                    0                 0  \n",
       "3                    0                    0                 0  \n",
       "4                    0                    0                 0  "
      ]
     },
     "execution_count": 9,
     "metadata": {},
     "output_type": "execute_result"
    }
   ],
   "source": [
    "X.head()"
   ]
  },
  {
   "cell_type": "code",
   "execution_count": 10,
   "id": "linear-jackson",
   "metadata": {},
   "outputs": [],
   "source": [
    "X_train, X_test, y_train, y_test = train_test_split(X, y, test_size = 0.2, random_state=42)"
   ]
  },
  {
   "cell_type": "code",
   "execution_count": 11,
   "id": "outer-container",
   "metadata": {},
   "outputs": [
    {
     "data": {
      "text/html": [
       "<div>\n",
       "<style scoped>\n",
       "    .dataframe tbody tr th:only-of-type {\n",
       "        vertical-align: middle;\n",
       "    }\n",
       "\n",
       "    .dataframe tbody tr th {\n",
       "        vertical-align: top;\n",
       "    }\n",
       "\n",
       "    .dataframe thead th {\n",
       "        text-align: right;\n",
       "    }\n",
       "</style>\n",
       "<table border=\"1\" class=\"dataframe\">\n",
       "  <thead>\n",
       "    <tr style=\"text-align: right;\">\n",
       "      <th></th>\n",
       "      <th>goal</th>\n",
       "      <th>staff_pick</th>\n",
       "      <th>days_active</th>\n",
       "      <th>launch_month</th>\n",
       "      <th>launch_day</th>\n",
       "      <th>country_grouped_USA</th>\n",
       "      <th>category_Comics</th>\n",
       "      <th>category_Crafts</th>\n",
       "      <th>category_Dance</th>\n",
       "      <th>category_Design</th>\n",
       "      <th>category_Fashion</th>\n",
       "      <th>category_Film &amp; Video</th>\n",
       "      <th>category_Food</th>\n",
       "      <th>category_Games</th>\n",
       "      <th>category_Journalism</th>\n",
       "      <th>category_Music</th>\n",
       "      <th>category_Photography</th>\n",
       "      <th>category_Publishing</th>\n",
       "      <th>category_Technology</th>\n",
       "      <th>category_Theater</th>\n",
       "    </tr>\n",
       "  </thead>\n",
       "  <tbody>\n",
       "    <tr>\n",
       "      <th>46731</th>\n",
       "      <td>-0.038059</td>\n",
       "      <td>-0.389846</td>\n",
       "      <td>-0.209822</td>\n",
       "      <td>-1.561672</td>\n",
       "      <td>1.194908</td>\n",
       "      <td>0</td>\n",
       "      <td>0</td>\n",
       "      <td>0</td>\n",
       "      <td>0</td>\n",
       "      <td>0</td>\n",
       "      <td>0</td>\n",
       "      <td>1</td>\n",
       "      <td>0</td>\n",
       "      <td>0</td>\n",
       "      <td>0</td>\n",
       "      <td>0</td>\n",
       "      <td>0</td>\n",
       "      <td>0</td>\n",
       "      <td>0</td>\n",
       "      <td>0</td>\n",
       "    </tr>\n",
       "    <tr>\n",
       "      <th>69429</th>\n",
       "      <td>-0.038511</td>\n",
       "      <td>-0.389846</td>\n",
       "      <td>-0.123338</td>\n",
       "      <td>0.204047</td>\n",
       "      <td>-0.870301</td>\n",
       "      <td>1</td>\n",
       "      <td>0</td>\n",
       "      <td>0</td>\n",
       "      <td>0</td>\n",
       "      <td>0</td>\n",
       "      <td>0</td>\n",
       "      <td>0</td>\n",
       "      <td>0</td>\n",
       "      <td>1</td>\n",
       "      <td>0</td>\n",
       "      <td>0</td>\n",
       "      <td>0</td>\n",
       "      <td>0</td>\n",
       "      <td>0</td>\n",
       "      <td>0</td>\n",
       "    </tr>\n",
       "    <tr>\n",
       "      <th>110471</th>\n",
       "      <td>-0.038511</td>\n",
       "      <td>-0.389846</td>\n",
       "      <td>1.563087</td>\n",
       "      <td>1.381193</td>\n",
       "      <td>1.194908</td>\n",
       "      <td>1</td>\n",
       "      <td>0</td>\n",
       "      <td>0</td>\n",
       "      <td>0</td>\n",
       "      <td>0</td>\n",
       "      <td>1</td>\n",
       "      <td>0</td>\n",
       "      <td>0</td>\n",
       "      <td>0</td>\n",
       "      <td>0</td>\n",
       "      <td>0</td>\n",
       "      <td>0</td>\n",
       "      <td>0</td>\n",
       "      <td>0</td>\n",
       "      <td>0</td>\n",
       "    </tr>\n",
       "    <tr>\n",
       "      <th>151757</th>\n",
       "      <td>0.085298</td>\n",
       "      <td>-0.389846</td>\n",
       "      <td>1.548673</td>\n",
       "      <td>-0.090239</td>\n",
       "      <td>-0.870301</td>\n",
       "      <td>0</td>\n",
       "      <td>0</td>\n",
       "      <td>0</td>\n",
       "      <td>0</td>\n",
       "      <td>0</td>\n",
       "      <td>0</td>\n",
       "      <td>0</td>\n",
       "      <td>0</td>\n",
       "      <td>1</td>\n",
       "      <td>0</td>\n",
       "      <td>0</td>\n",
       "      <td>0</td>\n",
       "      <td>0</td>\n",
       "      <td>0</td>\n",
       "      <td>0</td>\n",
       "    </tr>\n",
       "    <tr>\n",
       "      <th>67631</th>\n",
       "      <td>-0.042177</td>\n",
       "      <td>-0.389846</td>\n",
       "      <td>-0.353961</td>\n",
       "      <td>-0.973099</td>\n",
       "      <td>0.162303</td>\n",
       "      <td>1</td>\n",
       "      <td>0</td>\n",
       "      <td>0</td>\n",
       "      <td>0</td>\n",
       "      <td>0</td>\n",
       "      <td>0</td>\n",
       "      <td>0</td>\n",
       "      <td>0</td>\n",
       "      <td>0</td>\n",
       "      <td>0</td>\n",
       "      <td>1</td>\n",
       "      <td>0</td>\n",
       "      <td>0</td>\n",
       "      <td>0</td>\n",
       "      <td>0</td>\n",
       "    </tr>\n",
       "  </tbody>\n",
       "</table>\n",
       "</div>"
      ],
      "text/plain": [
       "            goal  staff_pick  days_active  launch_month  launch_day  \\\n",
       "46731  -0.038059   -0.389846    -0.209822     -1.561672    1.194908   \n",
       "69429  -0.038511   -0.389846    -0.123338      0.204047   -0.870301   \n",
       "110471 -0.038511   -0.389846     1.563087      1.381193    1.194908   \n",
       "151757  0.085298   -0.389846     1.548673     -0.090239   -0.870301   \n",
       "67631  -0.042177   -0.389846    -0.353961     -0.973099    0.162303   \n",
       "\n",
       "        country_grouped_USA  category_Comics  category_Crafts  category_Dance  \\\n",
       "46731                     0                0                0               0   \n",
       "69429                     1                0                0               0   \n",
       "110471                    1                0                0               0   \n",
       "151757                    0                0                0               0   \n",
       "67631                     1                0                0               0   \n",
       "\n",
       "        category_Design  category_Fashion  category_Film & Video  \\\n",
       "46731                 0                 0                      1   \n",
       "69429                 0                 0                      0   \n",
       "110471                0                 1                      0   \n",
       "151757                0                 0                      0   \n",
       "67631                 0                 0                      0   \n",
       "\n",
       "        category_Food  category_Games  category_Journalism  category_Music  \\\n",
       "46731               0               0                    0               0   \n",
       "69429               0               1                    0               0   \n",
       "110471              0               0                    0               0   \n",
       "151757              0               1                    0               0   \n",
       "67631               0               0                    0               1   \n",
       "\n",
       "        category_Photography  category_Publishing  category_Technology  \\\n",
       "46731                      0                    0                    0   \n",
       "69429                      0                    0                    0   \n",
       "110471                     0                    0                    0   \n",
       "151757                     0                    0                    0   \n",
       "67631                      0                    0                    0   \n",
       "\n",
       "        category_Theater  \n",
       "46731                  0  \n",
       "69429                  0  \n",
       "110471                 0  \n",
       "151757                 0  \n",
       "67631                  0  "
      ]
     },
     "execution_count": 11,
     "metadata": {},
     "output_type": "execute_result"
    }
   ],
   "source": [
    "X_train.head()"
   ]
  },
  {
   "cell_type": "code",
   "execution_count": 12,
   "id": "affecting-bikini",
   "metadata": {},
   "outputs": [
    {
     "data": {
      "text/plain": [
       "LogisticRegression()"
      ]
     },
     "execution_count": 12,
     "metadata": {},
     "output_type": "execute_result"
    }
   ],
   "source": [
    "lm1 = LogisticRegression()\n",
    "lm1.fit(X_train[['days_active']], y_train)"
   ]
  },
  {
   "cell_type": "code",
   "execution_count": 13,
   "id": "viral-trademark",
   "metadata": {},
   "outputs": [],
   "source": [
    "y_predict = lm1.predict(X_test[['days_active']]) "
   ]
  },
  {
   "cell_type": "code",
   "execution_count": 14,
   "id": "advance-finland",
   "metadata": {},
   "outputs": [
    {
     "data": {
      "text/plain": [
       "0.5676330618084143"
      ]
     },
     "execution_count": 14,
     "metadata": {},
     "output_type": "execute_result"
    }
   ],
   "source": [
    "precision_score(y_test,y_predict)"
   ]
  },
  {
   "cell_type": "code",
   "execution_count": 15,
   "id": "robust-disability",
   "metadata": {},
   "outputs": [
    {
     "data": {
      "text/plain": [
       "1.0"
      ]
     },
     "execution_count": 15,
     "metadata": {},
     "output_type": "execute_result"
    }
   ],
   "source": [
    "recall_score(y_test, y_predict)"
   ]
  },
  {
   "cell_type": "markdown",
   "id": "brief-lounge",
   "metadata": {},
   "source": [
    "baseline model: \n",
    "precision score: 0.918\n",
    "recall score: 0.794"
   ]
  },
  {
   "cell_type": "code",
   "execution_count": 16,
   "id": "established-speech",
   "metadata": {},
   "outputs": [
    {
     "data": {
      "text/plain": [
       "array([[    0, 14809],\n",
       "       [    0, 19442]], dtype=int64)"
      ]
     },
     "execution_count": 16,
     "metadata": {},
     "output_type": "execute_result"
    }
   ],
   "source": [
    "confusion_matrix(y_test, y_predict)"
   ]
  },
  {
   "cell_type": "code",
   "execution_count": 17,
   "id": "mechanical-antigua",
   "metadata": {
    "scrolled": true
   },
   "outputs": [
    {
     "data": {
      "text/plain": [
       "0.6213645602955652"
      ]
     },
     "execution_count": 17,
     "metadata": {},
     "output_type": "execute_result"
    }
   ],
   "source": [
    "fbeta_score(y_test, y_predict, beta=0.5)"
   ]
  },
  {
   "cell_type": "code",
   "execution_count": 18,
   "id": "champion-gateway",
   "metadata": {},
   "outputs": [],
   "source": [
    "# adding other features"
   ]
  },
  {
   "cell_type": "code",
   "execution_count": 19,
   "id": "stock-sleeve",
   "metadata": {},
   "outputs": [
    {
     "data": {
      "text/plain": [
       "LogisticRegression()"
      ]
     },
     "execution_count": 19,
     "metadata": {},
     "output_type": "execute_result"
    }
   ],
   "source": [
    "lm2 = LogisticRegression()\n",
    "lm2.fit(X_train[['goal', 'staff_pick']], y_train)"
   ]
  },
  {
   "cell_type": "code",
   "execution_count": 20,
   "id": "affected-living",
   "metadata": {},
   "outputs": [],
   "source": [
    "y2_predict = lm2.predict(X_test[['goal', 'staff_pick']]) "
   ]
  },
  {
   "cell_type": "code",
   "execution_count": 21,
   "id": "sunrise-eleven",
   "metadata": {},
   "outputs": [
    {
     "name": "stdout",
     "output_type": "stream",
     "text": [
      "Precision: 0.6088,   Recall: 0.9742, F-beta score: 0.6582\n"
     ]
    }
   ],
   "source": [
    "print(\"Precision: {:6.4f},   Recall: {:6.4f}, F-beta score: {:6.4f}\".format(precision_score(y_test, y2_predict), \n",
    "                                                     recall_score(y_test, y2_predict), fbeta_score(y_test, y2_predict, beta=0.5)))"
   ]
  },
  {
   "cell_type": "code",
   "execution_count": 22,
   "id": "likely-hospital",
   "metadata": {},
   "outputs": [],
   "source": [
    "lm3 = LogisticRegression()\n",
    "lm3.fit(X_train[['goal', 'staff_pick', 'days_active', 'launch_day', 'launch_month']], y_train)\n",
    "y3_predict = lm3.predict(X_test[['goal', 'staff_pick','days_active', 'launch_day', 'launch_month']]) "
   ]
  },
  {
   "cell_type": "code",
   "execution_count": 23,
   "id": "quiet-convergence",
   "metadata": {},
   "outputs": [
    {
     "name": "stdout",
     "output_type": "stream",
     "text": [
      "Precision: 0.6121,   Recall: 0.9664, Fbeta: 0.6605\n"
     ]
    }
   ],
   "source": [
    "print(\"Precision: {:6.4f},   Recall: {:6.4f}, Fbeta: {:6.4f}\".format(precision_score(y_test, y3_predict), \n",
    "                                                     recall_score(y_test, y3_predict), fbeta_score(y_test, y3_predict, beta=0.5)))"
   ]
  },
  {
   "cell_type": "code",
   "execution_count": 24,
   "id": "varied-harvest",
   "metadata": {},
   "outputs": [
    {
     "data": {
      "text/plain": [
       "LogisticRegression()"
      ]
     },
     "execution_count": 24,
     "metadata": {},
     "output_type": "execute_result"
    }
   ],
   "source": [
    "lm4 = LogisticRegression()\n",
    "lm4.fit(X_train, y_train)\n"
   ]
  },
  {
   "cell_type": "code",
   "execution_count": 25,
   "id": "simple-doctor",
   "metadata": {},
   "outputs": [],
   "source": [
    "y4_predict = lm4.predict(X_test) "
   ]
  },
  {
   "cell_type": "code",
   "execution_count": 26,
   "id": "center-genesis",
   "metadata": {
    "scrolled": true
   },
   "outputs": [
    {
     "name": "stdout",
     "output_type": "stream",
     "text": [
      "Precision: 0.6691,   Recall: 0.8809, F-beta_score: 0.7029\n"
     ]
    }
   ],
   "source": [
    "print(\"Precision: {:6.4f},   Recall: {:6.4f}, F-beta_score: {:6.4f}\".format(precision_score(y_test, y4_predict), \n",
    "                                                     recall_score(y_test, y4_predict), fbeta_score(y_test, y4_predict, beta=0.5)))"
   ]
  },
  {
   "cell_type": "code",
   "execution_count": 27,
   "id": "macro-pakistan",
   "metadata": {},
   "outputs": [],
   "source": [
    "pkl_filename = 'baseline_logit_model.pkl'\n",
    "with open(pkl_filename, 'wb') as file:\n",
    "    pickle.dump(lm4, file)"
   ]
  },
  {
   "cell_type": "code",
   "execution_count": 28,
   "id": "instant-fleet",
   "metadata": {},
   "outputs": [
    {
     "data": {
      "text/plain": [
       "array([[ 6339,  8470],\n",
       "       [ 2316, 17126]], dtype=int64)"
      ]
     },
     "execution_count": 28,
     "metadata": {},
     "output_type": "execute_result"
    }
   ],
   "source": [
    "from sklearn import metrics\n",
    "cnf_matrix = metrics.confusion_matrix(y_test, y4_predict)\n",
    "cnf_matrix"
   ]
  },
  {
   "cell_type": "code",
   "execution_count": 29,
   "id": "practical-spank",
   "metadata": {
    "scrolled": true
   },
   "outputs": [
    {
     "data": {
      "image/png": "[encoded data removed]",
      "text/plain": [
       "<Figure size 432x288 with 2 Axes>"
      ]
     },
     "metadata": {
      "needs_background": "light"
     },
     "output_type": "display_data"
    }
   ],
   "source": [
    " # name  of classes\n",
    "class_names=[0, 1]\n",
    "fig, ax = plt.subplots()\n",
    "tick_marks = np.arange(len(class_names))\n",
    "\n",
    "plt.xticks(tick_marks, class_names)\n",
    "plt.yticks(tick_marks, class_names)\n",
    "sns.heatmap(pd.DataFrame(cnf_matrix), annot=True, cmap=\"YlGnBu\" ,fmt='g')\n",
    "ax.xaxis.set_label_position(\"top\")\n",
    "plt.tight_layout()\n",
    "plt.title('Confusion matrix', y=1.1)\n",
    "plt.ylabel('Actual label')\n",
    "plt.xlabel('Predicted label')\n",
    "plt.savefig('baseline_matrix.png', bbox_inches='tight')"
   ]
  },
  {
   "cell_type": "code",
   "execution_count": null,
   "id": "appropriate-classification",
   "metadata": {},
   "outputs": [],
   "source": []
  },
  {
   "cell_type": "code",
   "execution_count": 30,
   "id": "economic-oliver",
   "metadata": {},
   "outputs": [],
   "source": [
    "#Split data into 3: 60% train, 20% validation, 20% test\n",
    "X_train, X_test, y_train, y_test = train_test_split(X, y, test_size=0.2, random_state=2018)\n",
    "X_train, X_val, y_train, y_val = train_test_split(X_train, y_train, test_size=0.25, random_state=2019)\n"
   ]
  },
  {
   "cell_type": "code",
   "execution_count": 49,
   "id": "alike-situation",
   "metadata": {},
   "outputs": [],
   "source": [
    "from sklearn.model_selection import cross_val_score\n",
    "lr = LogisticRegression(max_iter=300)\n",
    "lr.fit(X_train, y_train)\n",
    "precision = cross_val_score(lr, X, y, cv=10, scoring='precision')"
   ]
  },
  {
   "cell_type": "code",
   "execution_count": 50,
   "id": "thirty-chapel",
   "metadata": {},
   "outputs": [
    {
     "name": "stdout",
     "output_type": "stream",
     "text": [
      "0.6720337330500437\n"
     ]
    }
   ],
   "source": [
    "print(np.mean(precision))"
   ]
  },
  {
   "cell_type": "code",
   "execution_count": 51,
   "id": "western-problem",
   "metadata": {},
   "outputs": [
    {
     "name": "stdout",
     "output_type": "stream",
     "text": [
      "0.8803184845709067\n"
     ]
    }
   ],
   "source": [
    "recall = cross_val_score(lr, X, y, cv=10, scoring='recall')\n",
    "print(np.mean(recall))"
   ]
  },
  {
   "cell_type": "code",
   "execution_count": 52,
   "id": "educated-waterproof",
   "metadata": {},
   "outputs": [],
   "source": [
    "from sklearn.metrics import make_scorer\n",
    "fbeta = make_scorer(fbeta_score, beta=0.5)"
   ]
  },
  {
   "cell_type": "code",
   "execution_count": 53,
   "id": "grave-encyclopedia",
   "metadata": {},
   "outputs": [],
   "source": [
    "fbeta_train=cross_val_score(lr, X_train, y_train, cv=10, scoring=fbeta)"
   ]
  },
  {
   "cell_type": "code",
   "execution_count": 54,
   "id": "proud-honey",
   "metadata": {},
   "outputs": [],
   "source": [
    "\n",
    "precision_train = cross_val_score(lr, X_train, y_train, cv=10, scoring='precision')"
   ]
  },
  {
   "cell_type": "code",
   "execution_count": 55,
   "id": "different-purple",
   "metadata": {},
   "outputs": [
    {
     "name": "stdout",
     "output_type": "stream",
     "text": [
      "Precision training: 0.6754,   Recall training: 0.8806, Fbeta training: 0.7084\n"
     ]
    }
   ],
   "source": [
    "recall_train= cross_val_score(lr, X_train, y_train, cv=10, scoring='recall')\n",
    "print(\"Precision training: {:6.4f},   Recall training: {:6.4f}, Fbeta training: {:6.4f}\".format(np.mean(precision_train), \n",
    "                                                     np.mean(recall_train), np.mean(fbeta_train)))"
   ]
  },
  {
   "cell_type": "code",
   "execution_count": 38,
   "id": "atlantic-microwave",
   "metadata": {},
   "outputs": [],
   "source": [
    "precision_val = cross_val_score(lr, X_val, y_val, cv=10, scoring='precision')\n",
    "recall_val= cross_val_score(lr, X_val, y_val, cv=10, scoring='recall')\n",
    "fbeta_val=cross_val_score(lr, X_val, y_val, cv=10, scoring=fbeta)"
   ]
  },
  {
   "cell_type": "code",
   "execution_count": 39,
   "id": "foreign-marker",
   "metadata": {
    "scrolled": true
   },
   "outputs": [
    {
     "name": "stdout",
     "output_type": "stream",
     "text": [
      "Precision validation: 0.6676,   Recall validation: 0.8748, Fbeta validation: 0.7008\n"
     ]
    }
   ],
   "source": [
    "print(\"Precision validation: {:6.4f},   Recall validation: {:6.4f}, Fbeta validation: {:6.4f}\".format(np.mean(precision_val), \n",
    "                                                     np.mean(recall_val), np.mean(fbeta_val)))"
   ]
  },
  {
   "cell_type": "code",
   "execution_count": 43,
   "id": "unnecessary-testimony",
   "metadata": {},
   "outputs": [],
   "source": [
    "from sklearn.model_selection import cross_val_predict\n",
    "y_pred = cross_val_predict(lr, X_val, y_val, cv=10)"
   ]
  },
  {
   "cell_type": "code",
   "execution_count": 46,
   "id": "intended-marathon",
   "metadata": {},
   "outputs": [
    {
     "data": {
      "text/plain": [
       "'              precision    recall  f1-score   support\\n\\n           0       0.72      0.42      0.53     14742\\n           1       0.67      0.87      0.76     19508\\n\\n    accuracy                           0.68     34250\\n   macro avg       0.69      0.65      0.65     34250\\nweighted avg       0.69      0.68      0.66     34250\\n'"
      ]
     },
     "execution_count": 46,
     "metadata": {},
     "output_type": "execute_result"
    }
   ],
   "source": [
    "classification_report(y_val, y_pred)"
   ]
  },
  {
   "cell_type": "code",
   "execution_count": 75,
   "id": "mental-buffer",
   "metadata": {},
   "outputs": [],
   "source": [
    "def make_confusion_matrix(model, threshold=0.5):\n",
    "    # Predict class 1 if probability of being in class 1 is greater than threshold\n",
    "    # (model.predict(X_test) does this automatically with a threshold of 0.5)\n",
    "    y_predict = (lr.predict_proba(X_test)[:, 1] >= threshold)\n",
    "    fraud_confusion = confusion_matrix(y_test, y_predict)\n",
    "    plt.figure(dpi=80)\n",
    "    sns.heatmap(fraud_confusion, cmap=plt.cm.Blues, annot=True, square=True, fmt='d',\n",
    "           xticklabels=['failed', 'successful'],\n",
    "           yticklabels=['failed', 'successful']);\n",
    "    plt.xlabel('prediction')\n",
    "    plt.ylabel('actual')\n",
    "    plt.title('Logistic Regression')"
   ]
  },
  {
   "cell_type": "code",
   "execution_count": 76,
   "id": "closed-composer",
   "metadata": {},
   "outputs": [
    {
     "data": {
      "image/png": "[encoded data removed]",
      "text/plain": [
       "<Figure size 480x320 with 2 Axes>"
      ]
     },
     "metadata": {},
     "output_type": "display_data"
    }
   ],
   "source": [
    "make_confusion_matrix(lr)"
   ]
  },
  {
   "cell_type": "code",
   "execution_count": 72,
   "id": "coastal-federation",
   "metadata": {},
   "outputs": [
    {
     "data": {
      "application/vnd.jupyter.widget-view+json": {
       "model_id": "bbbcc038eaf54c14b155e2d0c381f235",
       "version_major": 2,
       "version_minor": 0
      },
      "text/plain": [
       "interactive(children=(FloatSlider(value=0.5, description='threshold', max=1.0, step=0.01), Output()), _dom_cla…"
      ]
     },
     "metadata": {},
     "output_type": "display_data"
    }
   ],
   "source": [
    "# Let's see how our confusion matrix changes with changes to the cutoff! \n",
    "\n",
    "from ipywidgets import interactive, FloatSlider\n",
    "\n",
    "interactive(lambda threshold: make_confusion_matrix(lr, threshold), threshold=(0.0,1.0,0.01))\n"
   ]
  },
  {
   "cell_type": "code",
   "execution_count": 65,
   "id": "designed-agent",
   "metadata": {},
   "outputs": [
    {
     "data": {
      "image/png": "[encoded data removed]",
      "text/plain": [
       "<Figure size 432x288 with 1 Axes>"
      ]
     },
     "metadata": {},
     "output_type": "display_data"
    }
   ],
   "source": [
    "from sklearn.metrics import roc_curve\n",
    "import matplotlib.pyplot as plt\n",
    "\n",
    "y_pred_proba = lr.predict_proba(X_test)\n",
    "# keep probabilities for the positive outcome only\n",
    "y_pred_proba = y_pred_proba[:, 1]\n",
    "# calculate roc curves\n",
    "fpr, tpr, thresholds = roc_curve(y_test, y_pred_proba)\n",
    "# plot the roc curve for the model\n",
    "plt.plot([0,1], [0,1], linestyle='--', label='No Skill')\n",
    "plt.plot(fpr, tpr, marker='.', label='Logistic')\n",
    "# axis labels\n",
    "plt.xlabel('False Positive Rate')\n",
    "plt.ylabel('True Positive Rate')\n",
    "plt.legend()\n",
    "# show the plot\n",
    "plt.show()"
   ]
  },
  {
   "cell_type": "code",
   "execution_count": 71,
   "id": "statistical-browser",
   "metadata": {},
   "outputs": [
    {
     "name": "stdout",
     "output_type": "stream",
     "text": [
      "Best Threshold=0.553994\n"
     ]
    }
   ],
   "source": [
    "# calculate the g-mean for each threshold\n",
    "J = tpr - fpr\n",
    "ix = np.argmax(J)\n",
    "best_thresh = thresholds[ix]\n",
    "print('Best Threshold=%f' % (best_thresh))\n"
   ]
  },
  {
   "cell_type": "code",
   "execution_count": 77,
   "id": "respective-providence",
   "metadata": {},
   "outputs": [
    {
     "data": {
      "text/plain": [
       "<Figure size 432x288 with 0 Axes>"
      ]
     },
     "metadata": {},
     "output_type": "display_data"
    }
   ],
   "source": [
    "def make_confusion_matrix(model, threshold=0.55):\n",
    "    # Predict class 1 if probability of being in class 1 is greater than threshold\n",
    "    # (model.predict(X_test) does this automatically with a threshold of 0.5)\n",
    "    y_predict = (lr.predict_proba(X_test)[:, 1] >= threshold)\n",
    "    fraud_confusion = confusion_matrix(y_test, y_predict)\n",
    "    plt.figure(dpi=80)\n",
    "    sns.heatmap(fraud_confusion, cmap=plt.cm.Blues, annot=True, square=True, fmt='d',\n",
    "           xticklabels=['failed', 'successful'],\n",
    "           yticklabels=['failed', 'successful']);\n",
    "    plt.xlabel('prediction')\n",
    "    plt.ylabel('actual')\n",
    "    plt.title('Logistic Regression')\n",
    "    "
   ]
  },
  {
   "cell_type": "code",
   "execution_count": 80,
   "id": "chubby-musical",
   "metadata": {},
   "outputs": [
    {
     "data": {
      "image/png": "[encoded data removed]",
      "text/plain": [
       "<Figure size 480x320 with 2 Axes>"
      ]
     },
     "metadata": {},
     "output_type": "display_data"
    }
   ],
   "source": [
    "make_confusion_matrix(lr)\n",
    "plt.savefig('logistics_matrix.png', bbox_inches='tight')"
   ]
  },
  {
   "cell_type": "code",
   "execution_count": null,
   "id": "boolean-preserve",
   "metadata": {},
   "outputs": [],
   "source": []
  }
 ],
 "metadata": {
  "kernelspec": {
   "display_name": "Python [conda env:metis] *",
   "language": "python",
   "name": "conda-env-metis-py"
  },
  "language_info": {
   "codemirror_mode": {
    "name": "ipython",
    "version": 3
   },
   "file_extension": ".py",
   "mimetype": "text/x-python",
   "name": "python",
   "nbconvert_exporter": "python",
   "pygments_lexer": "ipython3",
   "version": "3.8.8"
  }
 },
 "nbformat": 4,
 "nbformat_minor": 5
}
