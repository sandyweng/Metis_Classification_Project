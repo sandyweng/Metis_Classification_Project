{
 "cells": [
  {
   "cell_type": "code",
   "execution_count": 43,
   "id": "detected-comparative",
   "metadata": {},
   "outputs": [],
   "source": [
    "from sklearn.tree import DecisionTreeClassifier\n",
    "from sklearn.ensemble import RandomForestClassifier\n",
    "import pandas as pd\n",
    "from sklearn.model_selection import GridSearchCV\n",
    "from sklearn.model_selection import train_test_split\n",
    "from sklearn.metrics import precision_score, recall_score, fbeta_score, classification_report, make_scorer, confusion_matrix\n",
    "import numpy as np\n",
    "from sklearn.metrics import precision_score, recall_score, make_scorer, fbeta_score, f1_score\n",
    "from sklearn.model_selection import cross_val_score, cross_val_predict\n",
    "from sklearn.model_selection import RandomizedSearchCV\n",
    "import pickle\n",
    "import xgboost as xgb"
   ]
  },
  {
   "cell_type": "code",
   "execution_count": 2,
   "id": "coordinated-command",
   "metadata": {},
   "outputs": [],
   "source": [
    "df = pd.read_csv('final_clean.csv')"
   ]
  },
  {
   "cell_type": "code",
   "execution_count": 3,
   "id": "equipped-premises",
   "metadata": {},
   "outputs": [
    {
     "data": {
      "text/html": [
       "<div>\n",
       "<style scoped>\n",
       "    .dataframe tbody tr th:only-of-type {\n",
       "        vertical-align: middle;\n",
       "    }\n",
       "\n",
       "    .dataframe tbody tr th {\n",
       "        vertical-align: top;\n",
       "    }\n",
       "\n",
       "    .dataframe thead th {\n",
       "        text-align: right;\n",
       "    }\n",
       "</style>\n",
       "<table border=\"1\" class=\"dataframe\">\n",
       "  <thead>\n",
       "    <tr style=\"text-align: right;\">\n",
       "      <th></th>\n",
       "      <th>backers_count</th>\n",
       "      <th>pledged</th>\n",
       "      <th>country</th>\n",
       "      <th>created_at</th>\n",
       "      <th>deadline</th>\n",
       "      <th>goal</th>\n",
       "      <th>id</th>\n",
       "      <th>launched_date</th>\n",
       "      <th>name</th>\n",
       "      <th>spotlight</th>\n",
       "      <th>staff_pick</th>\n",
       "      <th>state</th>\n",
       "      <th>category</th>\n",
       "      <th>city</th>\n",
       "      <th>days_active</th>\n",
       "      <th>launch_month</th>\n",
       "      <th>launch_day</th>\n",
       "      <th>launch_day_name</th>\n",
       "      <th>launch_month_name</th>\n",
       "    </tr>\n",
       "  </thead>\n",
       "  <tbody>\n",
       "    <tr>\n",
       "      <th>0</th>\n",
       "      <td>0</td>\n",
       "      <td>0</td>\n",
       "      <td>the United States</td>\n",
       "      <td>2017-06-21 17:18:54</td>\n",
       "      <td>2017-07-22 23:38:29</td>\n",
       "      <td>1000.0</td>\n",
       "      <td>1166044523</td>\n",
       "      <td>2017-06-21 17:18:54</td>\n",
       "      <td>CrimpCoffee: Good Coffee Good Times</td>\n",
       "      <td>0</td>\n",
       "      <td>0</td>\n",
       "      <td>failed</td>\n",
       "      <td>Food</td>\n",
       "      <td>Portland</td>\n",
       "      <td>31</td>\n",
       "      <td>6</td>\n",
       "      <td>2</td>\n",
       "      <td>Wednesday</td>\n",
       "      <td>June</td>\n",
       "    </tr>\n",
       "    <tr>\n",
       "      <th>1</th>\n",
       "      <td>454</td>\n",
       "      <td>17010</td>\n",
       "      <td>Denmark</td>\n",
       "      <td>2020-10-27 13:29:35</td>\n",
       "      <td>2020-12-11 19:58:49</td>\n",
       "      <td>7500.0</td>\n",
       "      <td>986370978</td>\n",
       "      <td>2020-10-27 13:29:35</td>\n",
       "      <td>Spawns of the Great Rot - Printable stl 3d min...</td>\n",
       "      <td>1</td>\n",
       "      <td>0</td>\n",
       "      <td>successful</td>\n",
       "      <td>Games</td>\n",
       "      <td>Svendborg</td>\n",
       "      <td>45</td>\n",
       "      <td>10</td>\n",
       "      <td>1</td>\n",
       "      <td>Tuesday</td>\n",
       "      <td>October</td>\n",
       "    </tr>\n",
       "    <tr>\n",
       "      <th>2</th>\n",
       "      <td>1</td>\n",
       "      <td>64</td>\n",
       "      <td>the United Kingdom</td>\n",
       "      <td>2017-04-15 22:46:58</td>\n",
       "      <td>2017-05-17 12:59:30</td>\n",
       "      <td>500.0</td>\n",
       "      <td>2059825834</td>\n",
       "      <td>2017-04-15 22:46:58</td>\n",
       "      <td>Dreamcatcher Games</td>\n",
       "      <td>0</td>\n",
       "      <td>0</td>\n",
       "      <td>failed</td>\n",
       "      <td>Games</td>\n",
       "      <td>Enfield</td>\n",
       "      <td>31</td>\n",
       "      <td>4</td>\n",
       "      <td>5</td>\n",
       "      <td>Saturday</td>\n",
       "      <td>April</td>\n",
       "    </tr>\n",
       "    <tr>\n",
       "      <th>3</th>\n",
       "      <td>92</td>\n",
       "      <td>6223</td>\n",
       "      <td>the United States</td>\n",
       "      <td>2020-11-04 17:18:51</td>\n",
       "      <td>2021-01-04 05:30:00</td>\n",
       "      <td>5000.0</td>\n",
       "      <td>1462846972</td>\n",
       "      <td>2020-11-04 17:18:51</td>\n",
       "      <td>Felbar's Shoppe of Curiosities and Occult for ...</td>\n",
       "      <td>1</td>\n",
       "      <td>0</td>\n",
       "      <td>successful</td>\n",
       "      <td>Games</td>\n",
       "      <td>Chicago</td>\n",
       "      <td>60</td>\n",
       "      <td>11</td>\n",
       "      <td>2</td>\n",
       "      <td>Wednesday</td>\n",
       "      <td>November</td>\n",
       "    </tr>\n",
       "    <tr>\n",
       "      <th>4</th>\n",
       "      <td>128</td>\n",
       "      <td>10448</td>\n",
       "      <td>the United States</td>\n",
       "      <td>2020-07-20 15:40:27</td>\n",
       "      <td>2020-10-30 16:00:00</td>\n",
       "      <td>10000.0</td>\n",
       "      <td>1635933643</td>\n",
       "      <td>2020-07-20 15:40:27</td>\n",
       "      <td>Wander: Flavorful and Functional Pantry Staples</td>\n",
       "      <td>1</td>\n",
       "      <td>0</td>\n",
       "      <td>successful</td>\n",
       "      <td>Food</td>\n",
       "      <td>Brooklyn</td>\n",
       "      <td>102</td>\n",
       "      <td>7</td>\n",
       "      <td>0</td>\n",
       "      <td>Monday</td>\n",
       "      <td>July</td>\n",
       "    </tr>\n",
       "  </tbody>\n",
       "</table>\n",
       "</div>"
      ],
      "text/plain": [
       "   backers_count  pledged             country           created_at  \\\n",
       "0              0        0   the United States  2017-06-21 17:18:54   \n",
       "1            454    17010             Denmark  2020-10-27 13:29:35   \n",
       "2              1       64  the United Kingdom  2017-04-15 22:46:58   \n",
       "3             92     6223   the United States  2020-11-04 17:18:51   \n",
       "4            128    10448   the United States  2020-07-20 15:40:27   \n",
       "\n",
       "              deadline     goal          id        launched_date  \\\n",
       "0  2017-07-22 23:38:29   1000.0  1166044523  2017-06-21 17:18:54   \n",
       "1  2020-12-11 19:58:49   7500.0   986370978  2020-10-27 13:29:35   \n",
       "2  2017-05-17 12:59:30    500.0  2059825834  2017-04-15 22:46:58   \n",
       "3  2021-01-04 05:30:00   5000.0  1462846972  2020-11-04 17:18:51   \n",
       "4  2020-10-30 16:00:00  10000.0  1635933643  2020-07-20 15:40:27   \n",
       "\n",
       "                                                name  spotlight  staff_pick  \\\n",
       "0                CrimpCoffee: Good Coffee Good Times          0           0   \n",
       "1  Spawns of the Great Rot - Printable stl 3d min...          1           0   \n",
       "2                                 Dreamcatcher Games          0           0   \n",
       "3  Felbar's Shoppe of Curiosities and Occult for ...          1           0   \n",
       "4    Wander: Flavorful and Functional Pantry Staples          1           0   \n",
       "\n",
       "        state category       city  days_active  launch_month  launch_day  \\\n",
       "0      failed     Food   Portland           31             6           2   \n",
       "1  successful    Games  Svendborg           45            10           1   \n",
       "2      failed    Games    Enfield           31             4           5   \n",
       "3  successful    Games    Chicago           60            11           2   \n",
       "4  successful     Food   Brooklyn          102             7           0   \n",
       "\n",
       "  launch_day_name launch_month_name  \n",
       "0       Wednesday              June  \n",
       "1         Tuesday           October  \n",
       "2        Saturday             April  \n",
       "3       Wednesday          November  \n",
       "4          Monday              July  "
      ]
     },
     "execution_count": 3,
     "metadata": {},
     "output_type": "execute_result"
    }
   ],
   "source": [
    "df.head()"
   ]
  },
  {
   "cell_type": "code",
   "execution_count": 4,
   "id": "bronze-ghana",
   "metadata": {},
   "outputs": [],
   "source": [
    "def country(x):\n",
    "    if x == 'the United States':\n",
    "        return 'USA'\n",
    "    else:\n",
    "        return 'Other'\n",
    "df['country_grouped'] = df.country.apply(country)"
   ]
  },
  {
   "cell_type": "code",
   "execution_count": 5,
   "id": "embedded-weather",
   "metadata": {},
   "outputs": [],
   "source": [
    "df['target'] = df.state.apply(lambda x: 1 if x=='successful' else 0)"
   ]
  },
  {
   "cell_type": "code",
   "execution_count": 6,
   "id": "diverse-electricity",
   "metadata": {
    "scrolled": true
   },
   "outputs": [
    {
     "data": {
      "text/html": [
       "<div>\n",
       "<style scoped>\n",
       "    .dataframe tbody tr th:only-of-type {\n",
       "        vertical-align: middle;\n",
       "    }\n",
       "\n",
       "    .dataframe tbody tr th {\n",
       "        vertical-align: top;\n",
       "    }\n",
       "\n",
       "    .dataframe thead th {\n",
       "        text-align: right;\n",
       "    }\n",
       "</style>\n",
       "<table border=\"1\" class=\"dataframe\">\n",
       "  <thead>\n",
       "    <tr style=\"text-align: right;\">\n",
       "      <th></th>\n",
       "      <th>backers_count</th>\n",
       "      <th>pledged</th>\n",
       "      <th>country</th>\n",
       "      <th>created_at</th>\n",
       "      <th>deadline</th>\n",
       "      <th>goal</th>\n",
       "      <th>id</th>\n",
       "      <th>launched_date</th>\n",
       "      <th>name</th>\n",
       "      <th>spotlight</th>\n",
       "      <th>...</th>\n",
       "      <th>state</th>\n",
       "      <th>category</th>\n",
       "      <th>city</th>\n",
       "      <th>days_active</th>\n",
       "      <th>launch_month</th>\n",
       "      <th>launch_day</th>\n",
       "      <th>launch_day_name</th>\n",
       "      <th>launch_month_name</th>\n",
       "      <th>country_grouped</th>\n",
       "      <th>target</th>\n",
       "    </tr>\n",
       "  </thead>\n",
       "  <tbody>\n",
       "    <tr>\n",
       "      <th>0</th>\n",
       "      <td>0</td>\n",
       "      <td>0</td>\n",
       "      <td>the United States</td>\n",
       "      <td>2017-06-21 17:18:54</td>\n",
       "      <td>2017-07-22 23:38:29</td>\n",
       "      <td>1000.0</td>\n",
       "      <td>1166044523</td>\n",
       "      <td>2017-06-21 17:18:54</td>\n",
       "      <td>CrimpCoffee: Good Coffee Good Times</td>\n",
       "      <td>0</td>\n",
       "      <td>...</td>\n",
       "      <td>failed</td>\n",
       "      <td>Food</td>\n",
       "      <td>Portland</td>\n",
       "      <td>31</td>\n",
       "      <td>6</td>\n",
       "      <td>2</td>\n",
       "      <td>Wednesday</td>\n",
       "      <td>June</td>\n",
       "      <td>USA</td>\n",
       "      <td>0</td>\n",
       "    </tr>\n",
       "    <tr>\n",
       "      <th>1</th>\n",
       "      <td>454</td>\n",
       "      <td>17010</td>\n",
       "      <td>Denmark</td>\n",
       "      <td>2020-10-27 13:29:35</td>\n",
       "      <td>2020-12-11 19:58:49</td>\n",
       "      <td>7500.0</td>\n",
       "      <td>986370978</td>\n",
       "      <td>2020-10-27 13:29:35</td>\n",
       "      <td>Spawns of the Great Rot - Printable stl 3d min...</td>\n",
       "      <td>1</td>\n",
       "      <td>...</td>\n",
       "      <td>successful</td>\n",
       "      <td>Games</td>\n",
       "      <td>Svendborg</td>\n",
       "      <td>45</td>\n",
       "      <td>10</td>\n",
       "      <td>1</td>\n",
       "      <td>Tuesday</td>\n",
       "      <td>October</td>\n",
       "      <td>Other</td>\n",
       "      <td>1</td>\n",
       "    </tr>\n",
       "    <tr>\n",
       "      <th>2</th>\n",
       "      <td>1</td>\n",
       "      <td>64</td>\n",
       "      <td>the United Kingdom</td>\n",
       "      <td>2017-04-15 22:46:58</td>\n",
       "      <td>2017-05-17 12:59:30</td>\n",
       "      <td>500.0</td>\n",
       "      <td>2059825834</td>\n",
       "      <td>2017-04-15 22:46:58</td>\n",
       "      <td>Dreamcatcher Games</td>\n",
       "      <td>0</td>\n",
       "      <td>...</td>\n",
       "      <td>failed</td>\n",
       "      <td>Games</td>\n",
       "      <td>Enfield</td>\n",
       "      <td>31</td>\n",
       "      <td>4</td>\n",
       "      <td>5</td>\n",
       "      <td>Saturday</td>\n",
       "      <td>April</td>\n",
       "      <td>Other</td>\n",
       "      <td>0</td>\n",
       "    </tr>\n",
       "    <tr>\n",
       "      <th>3</th>\n",
       "      <td>92</td>\n",
       "      <td>6223</td>\n",
       "      <td>the United States</td>\n",
       "      <td>2020-11-04 17:18:51</td>\n",
       "      <td>2021-01-04 05:30:00</td>\n",
       "      <td>5000.0</td>\n",
       "      <td>1462846972</td>\n",
       "      <td>2020-11-04 17:18:51</td>\n",
       "      <td>Felbar's Shoppe of Curiosities and Occult for ...</td>\n",
       "      <td>1</td>\n",
       "      <td>...</td>\n",
       "      <td>successful</td>\n",
       "      <td>Games</td>\n",
       "      <td>Chicago</td>\n",
       "      <td>60</td>\n",
       "      <td>11</td>\n",
       "      <td>2</td>\n",
       "      <td>Wednesday</td>\n",
       "      <td>November</td>\n",
       "      <td>USA</td>\n",
       "      <td>1</td>\n",
       "    </tr>\n",
       "    <tr>\n",
       "      <th>4</th>\n",
       "      <td>128</td>\n",
       "      <td>10448</td>\n",
       "      <td>the United States</td>\n",
       "      <td>2020-07-20 15:40:27</td>\n",
       "      <td>2020-10-30 16:00:00</td>\n",
       "      <td>10000.0</td>\n",
       "      <td>1635933643</td>\n",
       "      <td>2020-07-20 15:40:27</td>\n",
       "      <td>Wander: Flavorful and Functional Pantry Staples</td>\n",
       "      <td>1</td>\n",
       "      <td>...</td>\n",
       "      <td>successful</td>\n",
       "      <td>Food</td>\n",
       "      <td>Brooklyn</td>\n",
       "      <td>102</td>\n",
       "      <td>7</td>\n",
       "      <td>0</td>\n",
       "      <td>Monday</td>\n",
       "      <td>July</td>\n",
       "      <td>USA</td>\n",
       "      <td>1</td>\n",
       "    </tr>\n",
       "  </tbody>\n",
       "</table>\n",
       "<p>5 rows × 21 columns</p>\n",
       "</div>"
      ],
      "text/plain": [
       "   backers_count  pledged             country           created_at  \\\n",
       "0              0        0   the United States  2017-06-21 17:18:54   \n",
       "1            454    17010             Denmark  2020-10-27 13:29:35   \n",
       "2              1       64  the United Kingdom  2017-04-15 22:46:58   \n",
       "3             92     6223   the United States  2020-11-04 17:18:51   \n",
       "4            128    10448   the United States  2020-07-20 15:40:27   \n",
       "\n",
       "              deadline     goal          id        launched_date  \\\n",
       "0  2017-07-22 23:38:29   1000.0  1166044523  2017-06-21 17:18:54   \n",
       "1  2020-12-11 19:58:49   7500.0   986370978  2020-10-27 13:29:35   \n",
       "2  2017-05-17 12:59:30    500.0  2059825834  2017-04-15 22:46:58   \n",
       "3  2021-01-04 05:30:00   5000.0  1462846972  2020-11-04 17:18:51   \n",
       "4  2020-10-30 16:00:00  10000.0  1635933643  2020-07-20 15:40:27   \n",
       "\n",
       "                                                name  spotlight  ...  \\\n",
       "0                CrimpCoffee: Good Coffee Good Times          0  ...   \n",
       "1  Spawns of the Great Rot - Printable stl 3d min...          1  ...   \n",
       "2                                 Dreamcatcher Games          0  ...   \n",
       "3  Felbar's Shoppe of Curiosities and Occult for ...          1  ...   \n",
       "4    Wander: Flavorful and Functional Pantry Staples          1  ...   \n",
       "\n",
       "        state category       city days_active  launch_month  launch_day  \\\n",
       "0      failed     Food   Portland          31             6           2   \n",
       "1  successful    Games  Svendborg          45            10           1   \n",
       "2      failed    Games    Enfield          31             4           5   \n",
       "3  successful    Games    Chicago          60            11           2   \n",
       "4  successful     Food   Brooklyn         102             7           0   \n",
       "\n",
       "   launch_day_name launch_month_name country_grouped target  \n",
       "0        Wednesday              June             USA      0  \n",
       "1          Tuesday           October           Other      1  \n",
       "2         Saturday             April           Other      0  \n",
       "3        Wednesday          November             USA      1  \n",
       "4           Monday              July             USA      1  \n",
       "\n",
       "[5 rows x 21 columns]"
      ]
     },
     "execution_count": 6,
     "metadata": {},
     "output_type": "execute_result"
    }
   ],
   "source": [
    "df.head()"
   ]
  },
  {
   "cell_type": "code",
   "execution_count": 7,
   "id": "white-library",
   "metadata": {},
   "outputs": [
    {
     "data": {
      "text/plain": [
       "Index(['backers_count', 'pledged', 'country', 'created_at', 'deadline', 'goal',\n",
       "       'id', 'launched_date', 'name', 'spotlight', 'staff_pick', 'state',\n",
       "       'category', 'city', 'days_active', 'launch_month', 'launch_day',\n",
       "       'launch_day_name', 'launch_month_name', 'country_grouped', 'target'],\n",
       "      dtype='object')"
      ]
     },
     "execution_count": 7,
     "metadata": {},
     "output_type": "execute_result"
    }
   ],
   "source": [
    "df.columns"
   ]
  },
  {
   "cell_type": "code",
   "execution_count": 8,
   "id": "ethical-blogger",
   "metadata": {},
   "outputs": [],
   "source": [
    "X = df[['goal', 'staff_pick', 'category', 'days_active', 'launch_month', 'launch_day', 'country_grouped']]\n",
    "y=df[['target']]"
   ]
  },
  {
   "cell_type": "code",
   "execution_count": 9,
   "id": "alpha-congress",
   "metadata": {},
   "outputs": [],
   "source": [
    "X = pd.get_dummies(X, columns=['country_grouped', 'category'], drop_first=True)"
   ]
  },
  {
   "cell_type": "code",
   "execution_count": 53,
   "id": "sized-victorian",
   "metadata": {
    "scrolled": true
   },
   "outputs": [
    {
     "data": {
      "text/plain": [
       "(171251, 20)"
      ]
     },
     "execution_count": 53,
     "metadata": {},
     "output_type": "execute_result"
    }
   ],
   "source": [
    "X.shape"
   ]
  },
  {
   "cell_type": "code",
   "execution_count": 54,
   "id": "scientific-jersey",
   "metadata": {},
   "outputs": [
    {
     "data": {
      "text/plain": [
       "Index(['goal', 'staff_pick', 'days_active', 'launch_month', 'launch_day',\n",
       "       'country_grouped_USA', 'category_Comics', 'category_Crafts',\n",
       "       'category_Dance', 'category_Design', 'category_Fashion',\n",
       "       'category_Film & Video', 'category_Food', 'category_Games',\n",
       "       'category_Journalism', 'category_Music', 'category_Photography',\n",
       "       'category_Publishing', 'category_Technology', 'category_Theater'],\n",
       "      dtype='object')"
      ]
     },
     "execution_count": 54,
     "metadata": {},
     "output_type": "execute_result"
    }
   ],
   "source": [
    "X.columns"
   ]
  },
  {
   "cell_type": "code",
   "execution_count": 10,
   "id": "active-ranch",
   "metadata": {},
   "outputs": [],
   "source": [
    "\n",
    "X_train, X_test, y_train, y_test = train_test_split(X, y, test_size=0.2, random_state=2018)\n",
    "\n"
   ]
  },
  {
   "cell_type": "code",
   "execution_count": 11,
   "id": "speaking-tissue",
   "metadata": {},
   "outputs": [],
   "source": [
    "param_grid = {'max_depth': np.arange(3, 12)}\n",
    "\n",
    "tree = GridSearchCV(DecisionTreeClassifier(), param_grid)\n",
    "\n",
    "tree.fit(X_train, y_train)\n",
    "tree_preds = tree.predict(X_test)\n",
    "tree_precision= precision_score(y_test, tree_preds)\n"
   ]
  },
  {
   "cell_type": "code",
   "execution_count": 12,
   "id": "joint-passport",
   "metadata": {},
   "outputs": [
    {
     "data": {
      "text/plain": [
       "0.7130326353355979"
      ]
     },
     "execution_count": 12,
     "metadata": {},
     "output_type": "execute_result"
    }
   ],
   "source": [
    "tree_precision"
   ]
  },
  {
   "cell_type": "code",
   "execution_count": 13,
   "id": "verbal-layer",
   "metadata": {},
   "outputs": [
    {
     "data": {
      "text/plain": [
       "{'max_depth': 10}"
      ]
     },
     "execution_count": 13,
     "metadata": {},
     "output_type": "execute_result"
    }
   ],
   "source": [
    "tree.best_params_"
   ]
  },
  {
   "cell_type": "code",
   "execution_count": 14,
   "id": "referenced-celebration",
   "metadata": {},
   "outputs": [],
   "source": [
    "# get validation set\n",
    "X_train, X_val, y_train, y_val = train_test_split(X_train, y_train, test_size=0.25, random_state=2019)"
   ]
  },
  {
   "cell_type": "code",
   "execution_count": 15,
   "id": "wrapped-mobility",
   "metadata": {},
   "outputs": [],
   "source": [
    "dt = DecisionTreeClassifier(max_depth=10)"
   ]
  },
  {
   "cell_type": "code",
   "execution_count": 16,
   "id": "boolean-asian",
   "metadata": {},
   "outputs": [],
   "source": [
    "fbeta = make_scorer(fbeta_score, beta=0.5)\n",
    "dt.fit(X_train, y_train)\n",
    "precision_train = cross_val_score(dt, X_train, y_train, cv=10, scoring='precision')"
   ]
  },
  {
   "cell_type": "code",
   "execution_count": 17,
   "id": "initial-stock",
   "metadata": {},
   "outputs": [
    {
     "name": "stdout",
     "output_type": "stream",
     "text": [
      "Precision training: 0.7126,   Recall training: 0.8428, Fbeta training: 0.7353\n"
     ]
    }
   ],
   "source": [
    "recall_train= cross_val_score(dt, X_train, y_train, cv=10, scoring='recall')\n",
    "fbeta_train=cross_val_score(dt, X_train, y_train, cv=10, scoring=fbeta)\n",
    "print(\"Precision training: {:6.4f},   Recall training: {:6.4f}, Fbeta training: {:6.4f}\".format(np.mean(precision_train), \n",
    "                                                     np.mean(recall_train), np.mean(fbeta_train)))"
   ]
  },
  {
   "cell_type": "code",
   "execution_count": 18,
   "id": "freelance-specific",
   "metadata": {},
   "outputs": [
    {
     "name": "stdout",
     "output_type": "stream",
     "text": [
      "Precision validation: 0.6982,   Recall validation: 0.8446, Fbeta validation: 0.7232\n"
     ]
    }
   ],
   "source": [
    "precision_val = cross_val_score(dt, X_val, y_val, cv=10, scoring='precision')\n",
    "recall_val= cross_val_score(dt, X_val, y_val, cv=10, scoring='recall')\n",
    "fbeta_val=cross_val_score(dt, X_val, y_val, cv=10, scoring=fbeta)\n",
    "print(\"Precision validation: {:6.4f},   Recall validation: {:6.4f}, Fbeta validation: {:6.4f}\".format(np.mean(precision_val), \n",
    "                                                     np.mean(recall_val), np.mean(fbeta_val)))"
   ]
  },
  {
   "cell_type": "code",
   "execution_count": 19,
   "id": "sitting-vietnamese",
   "metadata": {},
   "outputs": [],
   "source": [
    "rf = RandomForestClassifier(random_state = 42)"
   ]
  },
  {
   "cell_type": "code",
   "execution_count": 20,
   "id": "understanding-standing",
   "metadata": {},
   "outputs": [],
   "source": [
    "# Number of trees in random forest\n",
    "n_estimators = [int(x) for x in np.linspace(start = 20, stop = 200, num = 10)]\n",
    "# Number of features to consider at every split\n",
    "max_features = ['auto', 'sqrt']\n",
    "# Maximum number of levels in tree\n",
    "max_depth = [int(x) for x in np.linspace(3, 12, num = 1)]\n",
    "max_depth.append(None)\n",
    "# Minimum number of samples required to split a node\n",
    "min_samples_split = [2, 5, 10]\n",
    "# Minimum number of samples required at each leaf node\n",
    "min_samples_leaf = [1, 2, 4]\n",
    "# Method of selecting samples for training each tree\n",
    "bootstrap = [True, False]\n",
    "# Create the random grid\n",
    "random_grid = {'n_estimators': n_estimators,\n",
    "               'max_features': max_features,\n",
    "               'max_depth': max_depth,\n",
    "               'min_samples_split': min_samples_split,\n",
    "               'min_samples_leaf': min_samples_leaf,\n",
    "               'bootstrap': bootstrap}"
   ]
  },
  {
   "cell_type": "code",
   "execution_count": 21,
   "id": "funded-legislature",
   "metadata": {},
   "outputs": [
    {
     "name": "stdout",
     "output_type": "stream",
     "text": [
      "Fitting 3 folds for each of 10 candidates, totalling 30 fits\n"
     ]
    },
    {
     "data": {
      "text/plain": [
       "RandomizedSearchCV(cv=3, estimator=RandomForestClassifier(random_state=42),\n",
       "                   n_jobs=-1,\n",
       "                   param_distributions={'bootstrap': [True, False],\n",
       "                                        'max_depth': [3, None],\n",
       "                                        'max_features': ['auto', 'sqrt'],\n",
       "                                        'min_samples_leaf': [1, 2, 4],\n",
       "                                        'min_samples_split': [2, 5, 10],\n",
       "                                        'n_estimators': [20, 40, 60, 80, 100,\n",
       "                                                         120, 140, 160, 180,\n",
       "                                                         200]},\n",
       "                   random_state=42, verbose=2)"
      ]
     },
     "execution_count": 21,
     "metadata": {},
     "output_type": "execute_result"
    }
   ],
   "source": [
    "y_train = np.ravel(y_train)\n",
    "rf_random = RandomizedSearchCV(estimator = rf, param_distributions = random_grid, n_iter = 10, cv = 3, verbose=2, random_state=42, n_jobs = -1)\n",
    "# Fit the random search model\n",
    "rf_random.fit(X_train, y_train)"
   ]
  },
  {
   "cell_type": "code",
   "execution_count": 22,
   "id": "compressed-heritage",
   "metadata": {
    "scrolled": true
   },
   "outputs": [
    {
     "data": {
      "text/plain": [
       "{'n_estimators': 20,\n",
       " 'min_samples_split': 5,\n",
       " 'min_samples_leaf': 4,\n",
       " 'max_features': 'sqrt',\n",
       " 'max_depth': None,\n",
       " 'bootstrap': True}"
      ]
     },
     "execution_count": 22,
     "metadata": {},
     "output_type": "execute_result"
    }
   ],
   "source": [
    "rf_random.best_params_"
   ]
  },
  {
   "cell_type": "code",
   "execution_count": 23,
   "id": "proper-intervention",
   "metadata": {
    "scrolled": true
   },
   "outputs": [
    {
     "data": {
      "text/plain": [
       "RandomForestClassifier(max_features='sqrt', min_samples_leaf=4,\n",
       "                       min_samples_split=5, n_estimators=20, random_state=42)"
      ]
     },
     "execution_count": 23,
     "metadata": {},
     "output_type": "execute_result"
    }
   ],
   "source": [
    "X_train, y_train = np.array(X_train), np.ravel(y_train)\n",
    "rf = RandomForestClassifier(n_estimators=20, min_samples_split=5, min_samples_leaf=4, max_features='sqrt', \n",
    "                            max_depth=None, bootstrap=True,random_state = 42)\n",
    "rf.fit(X_train, y_train)"
   ]
  },
  {
   "cell_type": "code",
   "execution_count": 24,
   "id": "authorized-adventure",
   "metadata": {},
   "outputs": [],
   "source": [
    "precision_rf_train = cross_val_score(rf, X_train, y_train, cv=10, scoring='precision')"
   ]
  },
  {
   "cell_type": "code",
   "execution_count": 25,
   "id": "north-cleaner",
   "metadata": {
    "scrolled": true
   },
   "outputs": [
    {
     "name": "stdout",
     "output_type": "stream",
     "text": [
      "Precision training: 0.7319,   Recall training: 0.8085, Fbeta training: 0.7460\n"
     ]
    }
   ],
   "source": [
    "recall_rf_train= cross_val_score(rf, X_train, y_train, cv=10, scoring='recall')\n",
    "fbeta_rf_train=cross_val_score(rf, X_train, y_train, cv=10, scoring=fbeta)\n",
    "print(\"Precision training: {:6.4f},   Recall training: {:6.4f}, Fbeta training: {:6.4f}\".format(np.mean(precision_rf_train), \n",
    "                                                     np.mean(recall_rf_train), np.mean(fbeta_rf_train)))"
   ]
  },
  {
   "cell_type": "code",
   "execution_count": 26,
   "id": "rural-rating",
   "metadata": {},
   "outputs": [
    {
     "name": "stdout",
     "output_type": "stream",
     "text": [
      "Precision training: 0.7259,   Recall training: 0.8038, Fbeta training: 0.7402\n"
     ]
    }
   ],
   "source": [
    "X_val, y_val = np.array(X_val), np.ravel(y_val)\n",
    "precision_rf_val = cross_val_score(rf, X_val, y_val, cv=10, scoring='precision')\n",
    "recall_rf_val= cross_val_score(rf, X_val, y_val, cv=10, scoring='recall')\n",
    "fbeta_rf_val=cross_val_score(rf, X_val, y_val, cv=10, scoring=fbeta)\n",
    "print(\"Precision training: {:6.4f},   Recall training: {:6.4f}, Fbeta training: {:6.4f}\".format(np.mean(precision_rf_val), \n",
    "                                                     np.mean(recall_rf_val), np.mean(fbeta_rf_val)))"
   ]
  },
  {
   "cell_type": "code",
   "execution_count": 34,
   "id": "characteristic-eight",
   "metadata": {},
   "outputs": [
    {
     "data": {
      "text/plain": [
       "RandomForestClassifier(max_features='sqrt', min_samples_leaf=6,\n",
       "                       min_samples_split=5, random_state=42)"
      ]
     },
     "execution_count": 34,
     "metadata": {},
     "output_type": "execute_result"
    }
   ],
   "source": [
    "# increasing number of trees to 100 and min leaves to 6 to see if metrics improve\n",
    "rf2 = RandomForestClassifier(n_estimators=100, min_samples_split=5, min_samples_leaf=6, max_features='sqrt', \n",
    "                            max_depth=None, bootstrap=True,random_state = 42)\n",
    "rf2.fit(X_train, y_train)"
   ]
  },
  {
   "cell_type": "code",
   "execution_count": 35,
   "id": "suburban-samoa",
   "metadata": {},
   "outputs": [
    {
     "name": "stdout",
     "output_type": "stream",
     "text": [
      "Precision training: 0.7343,   Recall training: 0.8194, Fbeta training: 0.7499\n"
     ]
    }
   ],
   "source": [
    "precision_rf2_train = cross_val_score(rf2, X_train, y_train, cv=10, scoring='precision')\n",
    "recall_rf2_train= cross_val_score(rf2, X_train, y_train, cv=10, scoring='recall')\n",
    "fbeta_rf2_train=cross_val_score(rf2, X_train, y_train, cv=10, scoring=fbeta)\n",
    "print(\"Precision training: {:6.4f},   Recall training: {:6.4f}, Fbeta training: {:6.4f}\".format(np.mean(precision_rf2_train), \n",
    "                                                     np.mean(recall_rf2_train), np.mean(fbeta_rf2_train)))"
   ]
  },
  {
   "cell_type": "code",
   "execution_count": 76,
   "id": "motivated-spectrum",
   "metadata": {},
   "outputs": [
    {
     "name": "stdout",
     "output_type": "stream",
     "text": [
      "Precision validation: 0.7259,   Recall validation: 0.8038, Fbeta validation: 0.7402\n"
     ]
    }
   ],
   "source": [
    "X_val, y_val = np.array(X_val), np.ravel(y_val)\n",
    "precision_rf2_val = cross_val_score(rf2, X_val, y_val, cv=10, scoring='precision')\n",
    "recall_rf2_val= cross_val_score(rf2, X_val, y_val, cv=10, scoring='recall')\n",
    "fbeta_rf2_val=cross_val_score(rf2, X_val, y_val, cv=10, scoring=fbeta)\n",
    "print(\"Precision validation: {:6.4f},   Recall validation: {:6.4f}, Fbeta validation: {:6.4f}\".format(np.mean(precision_rf_val), \n",
    "                                                     np.mean(recall_rf_val), np.mean(fbeta_rf_val)))"
   ]
  },
  {
   "cell_type": "code",
   "execution_count": 37,
   "id": "effective-spirit",
   "metadata": {},
   "outputs": [],
   "source": [
    "y_pred = cross_val_predict(rf2, X_val, y_val, cv=10)"
   ]
  },
  {
   "cell_type": "code",
   "execution_count": 38,
   "id": "consecutive-parent",
   "metadata": {},
   "outputs": [
    {
     "data": {
      "text/plain": [
       "'              precision    recall  f1-score   support\\n\\n           0       0.71      0.60      0.65     14742\\n           1       0.73      0.82      0.77     19508\\n\\n    accuracy                           0.72     34250\\n   macro avg       0.72      0.71      0.71     34250\\nweighted avg       0.72      0.72      0.72     34250\\n'"
      ]
     },
     "execution_count": 38,
     "metadata": {},
     "output_type": "execute_result"
    }
   ],
   "source": [
    "classification_report(y_val, y_pred)"
   ]
  },
  {
   "cell_type": "code",
   "execution_count": 49,
   "id": "close-porter",
   "metadata": {},
   "outputs": [],
   "source": [
    "import matplotlib.pyplot as plt\n",
    "import seaborn as sns\n",
    "def make_confusion_matrix(model, threshold=0.5):\n",
    "    # Predict class 1 if probability of being in class 1 is greater than threshold\n",
    "    # (model.predict(X_test) does this automatically with a threshold of 0.5)\n",
    "    y_predict = (rf2.predict_proba(X_test)[:, 1] >= threshold)\n",
    "    fraud_confusion = confusion_matrix(y_test, y_predict)\n",
    "    plt.figure(dpi=80)\n",
    "    sns.heatmap(fraud_confusion, cmap=plt.cm.Blues, annot=True, square=True, fmt='d',\n",
    "           xticklabels=['failed', 'successful'],\n",
    "           yticklabels=['failed', 'successful']);\n",
    "    plt.xlabel('prediction')\n",
    "    plt.ylabel('actual')\n",
    "    plt.title('Random Forest')"
   ]
  },
  {
   "cell_type": "code",
   "execution_count": 75,
   "id": "overhead-interface",
   "metadata": {},
   "outputs": [
    {
     "data": {
      "image/png": "[encoded data removed]",
      "text/plain": [
       "<Figure size 480x320 with 2 Axes>"
      ]
     },
     "metadata": {
      "needs_background": "light"
     },
     "output_type": "display_data"
    }
   ],
   "source": [
    "make_confusion_matrix(rf2)\n",
    "plt.savefig('rf_matrix.png')"
   ]
  },
  {
   "cell_type": "code",
   "execution_count": 52,
   "id": "incredible-dayton",
   "metadata": {
    "scrolled": true
   },
   "outputs": [
    {
     "name": "stdout",
     "output_type": "stream",
     "text": [
      "Feature: 0, Score: 0.28919\n",
      "Feature: 1, Score: 0.16290\n",
      "Feature: 2, Score: 0.18814\n",
      "Feature: 3, Score: 0.08095\n",
      "Feature: 4, Score: 0.05730\n",
      "Feature: 5, Score: 0.01442\n",
      "Feature: 6, Score: 0.02487\n",
      "Feature: 7, Score: 0.02405\n",
      "Feature: 8, Score: 0.00102\n",
      "Feature: 9, Score: 0.00425\n",
      "Feature: 10, Score: 0.00513\n",
      "Feature: 11, Score: 0.00809\n",
      "Feature: 12, Score: 0.04718\n",
      "Feature: 13, Score: 0.00934\n",
      "Feature: 14, Score: 0.02118\n",
      "Feature: 15, Score: 0.01215\n",
      "Feature: 16, Score: 0.01704\n",
      "Feature: 17, Score: 0.00954\n",
      "Feature: 18, Score: 0.02143\n",
      "Feature: 19, Score: 0.00183\n"
     ]
    },
    {
     "data": {
      "image/png": "[encoded data removed]",
      "text/plain": [
       "<Figure size 432x288 with 1 Axes>"
      ]
     },
     "metadata": {
      "needs_background": "light"
     },
     "output_type": "display_data"
    }
   ],
   "source": [
    "importance = rf2.feature_importances_\n",
    "# summarize feature importance\n",
    "for i,v in enumerate(importance):\n",
    "\tprint('Feature: %0d, Score: %.5f' % (i,v))\n",
    "# plot feature importance\n",
    "plt.bar([x for x in range(len(importance))], importance)\n",
    "plt.show()"
   ]
  },
  {
   "cell_type": "code",
   "execution_count": 102,
   "id": "composite-arrival",
   "metadata": {},
   "outputs": [
    {
     "data": {
      "image/png": "[encoded data removed]",
      "text/plain": [
       "<Figure size 432x288 with 1 Axes>"
      ]
     },
     "metadata": {
      "needs_background": "light"
     },
     "output_type": "display_data"
    }
   ],
   "source": [
    "std = np.std([rf2.feature_importances_ for tree in rf2.estimators_],\n",
    "             axis=0)\n",
    "indices = np.argsort(importance)\n",
    "plt.figure()\n",
    "plt.title(\"Feature importances\")\n",
    "plt.barh(range(X.shape[1]), importance[indices],\n",
    "       color=\"r\", xerr=std[indices], align=\"center\")\n",
    "# If you want to define your own labels,\n",
    "# change indices to a list of labels on the following line.\n",
    "labels=['Dance', 'Theater', 'Design', 'Fashion', 'Film & Video', 'Games', 'Publishing', 'Music', 'USA', 'Photograpy',\n",
    "       'Journalism', 'Technology', 'Crafts', 'Comics','Food', 'launch_day', 'launch_month', 'staff_pick', 'days_active', 'goal']\n",
    "\n",
    "plt.yticks(range(X.shape[1]), labels)\n",
    "plt.ylim([-1, X.shape[1]])\n",
    "plt.savefig('feature_importances.png', bbox_inches='tight')"
   ]
  },
  {
   "cell_type": "code",
   "execution_count": 61,
   "id": "dramatic-testament",
   "metadata": {},
   "outputs": [],
   "source": [
    "# final training \n",
    "\n",
    "X_train_final, X_test_final, y_train_final, y_test_final = train_test_split(X, y, test_size=0.2, random_state=2018)"
   ]
  },
  {
   "cell_type": "code",
   "execution_count": 63,
   "id": "hourly-tissue",
   "metadata": {},
   "outputs": [],
   "source": [
    " y_train_final= np.ravel(y_train_final)"
   ]
  },
  {
   "cell_type": "code",
   "execution_count": 88,
   "id": "herbal-physics",
   "metadata": {},
   "outputs": [
    {
     "data": {
      "text/plain": [
       "RandomForestClassifier(max_features='sqrt', min_samples_leaf=6,\n",
       "                       min_samples_split=5, random_state=42)"
      ]
     },
     "execution_count": 88,
     "metadata": {},
     "output_type": "execute_result"
    }
   ],
   "source": [
    "rf2.fit(X_train_final, y_train_final)"
   ]
  },
  {
   "cell_type": "code",
   "execution_count": 66,
   "id": "growing-console",
   "metadata": {},
   "outputs": [
    {
     "name": "stdout",
     "output_type": "stream",
     "text": [
      "Precision training: 0.7355,   Recall training: 0.8168, Fbeta training: 0.7504\n"
     ]
    }
   ],
   "source": [
    "precision_test = cross_val_score(rf2, X_test_final, np.ravel(y_test_final), cv=10, scoring='precision')\n",
    "recall_test= cross_val_score(rf2, X_test_final, np.ravel(y_test_final), cv=10, scoring='recall')\n",
    "fbeta_test=cross_val_score(rf2, X_test, np.ravel(y_test), cv=10, scoring=fbeta)\n",
    "print(\"Precision test: {:6.4f},   Recall test: {:6.4f}, Fbeta test: {:6.4f}\".format(np.mean(precision_test), \n",
    "                                                     np.mean(recall_test), np.mean(fbeta_test)))"
   ]
  },
  {
   "cell_type": "code",
   "execution_count": 67,
   "id": "proud-farmer",
   "metadata": {},
   "outputs": [],
   "source": [
    "pkl_filename = 'random_forest.pkl'\n",
    "with open(pkl_filename, 'wb') as file:\n",
    "    pickle.dump(rf2, file)"
   ]
  },
  {
   "cell_type": "code",
   "execution_count": 77,
   "id": "humanitarian-underground",
   "metadata": {
    "scrolled": true
   },
   "outputs": [
    {
     "data": {
      "text/plain": [
       "array([1, 0, 1, ..., 1, 1, 1], dtype=int64)"
      ]
     },
     "execution_count": 77,
     "metadata": {},
     "output_type": "execute_result"
    }
   ],
   "source": [
    "y_pred"
   ]
  },
  {
   "cell_type": "code",
   "execution_count": 89,
   "id": "applicable-technical",
   "metadata": {
    "scrolled": true
   },
   "outputs": [
    {
     "name": "stdout",
     "output_type": "stream",
     "text": [
      "[1]\n"
     ]
    }
   ],
   "source": [
    "# predict out of sample project1 True Positive\n",
    "project1=pd.DataFrame([[8494,1,30,4,20,2,0,0,0,0,1,0,0,0,0,0,0,0,0,0]], columns =['goal', 'staff_pick', \n",
    "                      'days_active', 'launch_month', 'launch_day','country_grouped_USA', 'category_Comics', 'category_Crafts',\n",
    "                      'category_Dance', 'category_Design', 'category_Fashion','category_Film & Video', 'category_Food', 'category_Games',\n",
    "                      'category_Journalism', 'category_Music', 'category_Photography','category_Publishing', 'category_Technology', 'category_Theater'],dtype='float')\n",
    "prediction = rf2.predict(project1)\n",
    "print(prediction)"
   ]
  },
  {
   "cell_type": "code",
   "execution_count": 99,
   "id": "protected-replica",
   "metadata": {
    "scrolled": true
   },
   "outputs": [
    {
     "name": "stdout",
     "output_type": "stream",
     "text": [
      "[0]\n"
     ]
    }
   ],
   "source": [
    "# predict out of sample project2  True Negative\n",
    "project2=pd.DataFrame([[25000,0,31,4,1,0,0,0,0,0,0,0,1,0,0,0,0,0,0,0]], columns =['goal', 'staff_pick', \n",
    "                      'days_active', 'launch_month', 'launch_day','country_grouped_USA', 'category_Comics', 'category_Crafts',\n",
    "                      'category_Dance', 'category_Design', 'category_Fashion','category_Film & Video', 'category_Food', 'category_Games',\n",
    "                      'category_Journalism', 'category_Music', 'category_Photography','category_Publishing', 'category_Technology', 'category_Theater'],dtype='float')\n",
    "prediction2 = rf2.predict(project2)\n",
    "print(prediction2)"
   ]
  },
  {
   "cell_type": "code",
   "execution_count": 103,
   "id": "remarkable-cuisine",
   "metadata": {},
   "outputs": [
    {
     "name": "stdout",
     "output_type": "stream",
     "text": [
      "[1]\n"
     ]
    }
   ],
   "source": [
    "# predict out of sample project3 # False Positive\n",
    "project3=pd.DataFrame([[362,0,31,4,1,0,0,0,0,0,0,1,0,0,0,0,0,0,0,0]], columns =['goal', 'staff_pick', \n",
    "                      'days_active', 'launch_month', 'launch_day','country_grouped_USA', 'category_Comics', 'category_Crafts',\n",
    "                      'category_Dance', 'category_Design', 'category_Fashion','category_Film & Video', 'category_Food', 'category_Games',\n",
    "                      'category_Journalism', 'category_Music', 'category_Photography','category_Publishing', 'category_Technology', 'category_Theater'],dtype='float')\n",
    "prediction3 = rf2.predict(project3)\n",
    "print(prediction3)"
   ]
  },
  {
   "cell_type": "code",
   "execution_count": 105,
   "id": "placed-kinase",
   "metadata": {},
   "outputs": [
    {
     "name": "stdout",
     "output_type": "stream",
     "text": [
      "[0]\n"
     ]
    }
   ],
   "source": [
    "# predict out of sample project4 False Negative\n",
    "project3=pd.DataFrame([[100000,0,46,4,1,4,1,0,0,0,0,0,0,0,0,0,0,0,1,0]], columns =['goal', 'staff_pick', \n",
    "                      'days_active', 'launch_month', 'launch_day','country_grouped_USA', 'category_Comics', 'category_Crafts',\n",
    "                      'category_Dance', 'category_Design', 'category_Fashion','category_Film & Video', 'category_Food', 'category_Games',\n",
    "                      'category_Journalism', 'category_Music', 'category_Photography','category_Publishing', 'category_Technology', 'category_Theater'],dtype='float')\n",
    "prediction3 = rf2.predict(project3)\n",
    "print(prediction3)"
   ]
  },
  {
   "cell_type": "code",
   "execution_count": null,
   "id": "tracked-domestic",
   "metadata": {},
   "outputs": [],
   "source": []
  }
 ],
 "metadata": {
  "kernelspec": {
   "display_name": "Python [conda env:metis] *",
   "language": "python",
   "name": "conda-env-metis-py"
  },
  "language_info": {
   "codemirror_mode": {
    "name": "ipython",
    "version": 3
   },
   "file_extension": ".py",
   "mimetype": "text/x-python",
   "name": "python",
   "nbconvert_exporter": "python",
   "pygments_lexer": "ipython3",
   "version": "3.8.8"
  }
 },
 "nbformat": 4,
 "nbformat_minor": 5
}
